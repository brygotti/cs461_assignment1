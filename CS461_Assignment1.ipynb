{
 "cells": [
  {
   "cell_type": "markdown",
   "metadata": {},
   "source": [
    "<table style=\"background-color:#FFFFFF\">   \n",
    "  <tr>     \n",
    "  <td><img src=\"https://upload.wikimedia.org/wikipedia/commons/9/95/Logo_EPFL_2019.svg\" width=\"150x\"/>\n",
    "  </td>     \n",
    "  <td>\n",
    "  <h1> <b>CS-461: Foundation Models and Generative AI</b> </h1>\n",
    "  Prof. Charlotte Bunne  \n",
    "  </td>   \n",
    "  </tr>\n",
    "</table>"
   ]
  },
  {
   "cell_type": "markdown",
   "metadata": {},
   "source": [
    "# 📚 Graded Assignment 1  \n",
    "### CS-461: Foundation Models and Generative AI - Fall 2025  - Due: October 8, 23:59 CET\n",
    "\n",
    "Welcome to the first graded assignment!\n",
    "In this assignment, you will **implement and explore self-supervised learning** on a downsampled subset of the [ImageNet-1k dataset](https://www.image-net.org/), and evaluate how well your model generalizes **both in-distribution and out-of-distribution (OOD)**.  \n",
    "\n",
    "---\n",
    "\n",
    "## 🎯 Learning Objectives\n",
    "By completing this assignment, you will learn to:\n",
    "- Implement a custom **encoder** and **projection head** for images  \n",
    "- Experiment with **data augmentations** for self-supervised learning  \n",
    "- Train a model using a **self-supervised loss**  \n",
    "- Evaluate learned representations with **k-NN** and **linear probes**  \n",
    "- Assess **out-of-distribution (OOD) generalization** to unseen classes  \n",
    "- Save, visualize, and submit results in a reproducible way  \n",
    "\n",
    "---\n",
    "\n",
    "## ⚡ Practical Notes\n",
    "- **Dataset:**  \n",
    "  - Training: 200 ImageNet classes, 500 images each (100k total)  \n",
    "  - Validation: 200 ImageNet classes, 50 images each (10k total)  \n",
    "  - **OOD dataset:** 200 unseen classes, 50 images each (10k total)  \n",
    "- Use OOD only for **evaluation**, never for training.  \n",
    "- Checkpoints and evaluation intervals are already set up — your main tasks are to fill in missing functions and customize the model.  \n",
    "- Some helper utilities (e.g., dataset loaders, probes) are provided in `utils.py`.  \n",
    "\n",
    "---\n",
    "\n",
    "👉 **Deliverables:** You will submit:\n",
    "- Your modified **`models.py`**  \n",
    "- Trained weights in **`final_model.safetensors`**  \n",
    "- A short **report.md** (max 500 words) — including **discussion of OOD results**  \n",
    "- This completed notebook **CS461_Assignment1.ipynb**  \n",
    "\n",
    "---\n",
    "\n",
    "⚠️ **Important:** Don’t forget to fill in your **SCIPER number** and **full name** in Section 0, otherwise you will receive **0 points**.  "
   ]
  },
  {
   "cell_type": "markdown",
   "metadata": {},
   "source": [
    "First, we import packages and set up the device. \\\n",
    "Feel free to add any additional packages you may need."
   ]
  },
  {
   "cell_type": "code",
   "execution_count": 1,
   "metadata": {},
   "outputs": [],
   "source": [
    "# Automatically reloads modules when you make changes (useful during development)\n",
    "%load_ext autoreload\n",
    "%autoreload 2"
   ]
  },
  {
   "cell_type": "code",
   "execution_count": 2,
   "metadata": {},
   "outputs": [],
   "source": [
    "from pathlib import Path\n",
    "import shutil\n",
    "\n",
    "import numpy as np\n",
    "import math\n",
    "\n",
    "import matplotlib.pyplot as plt\n",
    "from mpl_toolkits.axes_grid1 import ImageGrid\n",
    "from tqdm import tqdm\n",
    "\n",
    "import torch\n",
    "import torch.nn as nn\n",
    "import torch.nn.functional as F\n",
    "import torchvision.transforms as T\n",
    "from torch.utils.data import DataLoader\n",
    "from safetensors.torch import save_model\n",
    "\n",
    "\n",
    "device = 'cuda' if torch.cuda.is_available() else 'cpu'"
   ]
  },
  {
   "cell_type": "markdown",
   "metadata": {},
   "source": [
    "# 🆔 0. SCIPER Number and Name  \n",
    "\n",
    "⚠️ **IMPORTANT!** ⚠️  \n",
    "You **must** fill in your **SCIPER number** and **full name** below.  \n",
    "\n",
    "This is **required for automatic grading**.  \n",
    "If you do **not** provide this information, you will receive **0️⃣ (zero)** for this assignment. "
   ]
  },
  {
   "cell_type": "code",
   "execution_count": 4,
   "metadata": {},
   "outputs": [],
   "source": [
    "SCIPER = 325403  # Replace with your SCIPER number\n",
    "LAST_NAME = \"Gotti\"  # Replace with your last name\n",
    "FIRST_NAME = \"Bryan\"  # Replace with your first name"
   ]
  },
  {
   "cell_type": "markdown",
   "metadata": {},
   "source": [
    "## 1. Datasets & Utilities"
   ]
  },
  {
   "cell_type": "markdown",
   "metadata": {},
   "source": [
    "- In the following, we will work with a subset of the ImageNet-1k dataset: color images downsampled to 64×64, covering 200 classes.\n",
    "- The training set contains 500 images per class (100,000 images in total), and the validation set contains 50 images per class (10,000 images in total).\n",
    "- The Out-Of-Distribution (OOD) datasets contain images from classes not present in the training set. It contains 50 images from 200 different classes (1,000 images in total).\n",
    "- The purpose of these OOD datasets is to evaluate the generalization capabilities of the learned representations. You should not use it for training.\n",
    "- During evalution, we will measure your model's performance on another OOD dataset (different from the one provided here), so make sure to not overfit on the provided OOD dataset.\n",
    "\n",
    "<!-- Let's download/load it and define a default transformation turning a PIL Image into a `torch.tensor` -->\n",
    "Make sure that you have access to the `/shared/CS461/cs461_assignment1_data/` folder. The folder structure should look like this:\n",
    "```\n",
    "cs461_assignment1_data/\n",
    "└── train.npz\n",
    "└── val.npz\n",
    "└── ood.npz\n",
    "```\n"
   ]
  },
  {
   "cell_type": "markdown",
   "metadata": {},
   "source": [
    "Import dataset class and other utilities you developed in previous homeworks:"
   ]
  },
  {
   "cell_type": "code",
   "execution_count": 4,
   "metadata": {},
   "outputs": [
    {
     "name": "stderr",
     "output_type": "stream",
     "text": [
      "hwloc/linux: failed to find sysfs cpu topology directory, aborting linux discovery.\n",
      "Extension for Scikit-learn* enabled (https://github.com/uxlfoundation/scikit-learn-intelex)\n"
     ]
    }
   ],
   "source": [
    "from utils import ImageDatasetNPZ, default_transform, seed_all\n",
    "from utils import run_knn_probe, run_linear_probe, extract_features_and_labels"
   ]
  },
  {
   "cell_type": "markdown",
   "metadata": {},
   "source": [
    "For reproducibility, you can use the provided `seed_all` function to set the random seed for all relevant libraries (Python, NumPy, PyTorch)."
   ]
  },
  {
   "cell_type": "code",
   "execution_count": 5,
   "metadata": {},
   "outputs": [],
   "source": [
    "seed_all(42)  # For reproducibility, you can use any integer here"
   ]
  },
  {
   "cell_type": "markdown",
   "metadata": {},
   "source": [
    "You probably want to implement custom data augmentations for the self-supervised learning method you choose. \\\n",
    "Feel free to swap the `default_transform` defined below and create multiple instances of datasets with different transforms."
   ]
  },
  {
   "cell_type": "code",
   "execution_count": 6,
   "metadata": {},
   "outputs": [],
   "source": [
    "class SimCLRTransform:\n",
    "\n",
    "    def __init__(self, size=32, s=0.5, blur_p=0.5):\n",
    "        color_jitter = T.ColorJitter(0.8*s, 0.8*s, 0.8*s, 0.2*s)\n",
    "        k = 3 if size <= 32 else 5\n",
    "        base = [\n",
    "            T.ToPILImage(),\n",
    "            T.RandomResizedCrop(size=size, scale=(0.2, 1.0)),\n",
    "            T.RandomHorizontalFlip(),\n",
    "            T.RandomApply([color_jitter], p=0.8),\n",
    "            T.RandomGrayscale(p=0.2),\n",
    "            T.RandomApply([T.GaussianBlur(kernel_size=k, sigma=(0.1, 2.0))], p=blur_p),\n",
    "            T.ToTensor()\n",
    "        ]\n",
    "        self.train_transform = T.Compose(base)\n",
    "\n",
    "    def __call__(self, x):\n",
    "        return self.train_transform(x), self.train_transform(x)"
   ]
  },
  {
   "cell_type": "code",
   "execution_count": 5,
   "metadata": {},
   "outputs": [],
   "source": [
    "data_dir = Path('/shared/CS461/cs461_assignment1_data/')\n",
    "checkpoints_dir = Path('checkpoints')\n",
    "if not checkpoints_dir.exists():\n",
    "    checkpoints_dir.mkdir(parents=True, exist_ok=False)\n",
    "final_model_path = checkpoints_dir / 'model_final.safetensors'"
   ]
  },
  {
   "cell_type": "code",
   "execution_count": 8,
   "metadata": {},
   "outputs": [],
   "source": [
    "simclr_transform = SimCLRTransform(size=64)\n",
    "\n",
    "train_dataset = ImageDatasetNPZ(data_dir / 'train.npz', transform=simclr_transform)\n",
    "train_dataset_no_augment = ImageDatasetNPZ(data_dir / 'train.npz', transform=default_transform)\n",
    "val_dataset_no_augment = ImageDatasetNPZ(data_dir / 'val.npz', transform=default_transform)"
   ]
  },
  {
   "cell_type": "markdown",
   "metadata": {},
   "source": [
    "You can split the provided OOD dataset into a training and validation set using the code below. \\\n",
    "You should not use the training split for actually training your models, but only for evaluation (e.g. kNN or linear probing)."
   ]
  },
  {
   "cell_type": "code",
   "execution_count": 9,
   "metadata": {},
   "outputs": [],
   "source": [
    "rng = np.random.RandomState(42)\n",
    "ds_ood = ImageDatasetNPZ(data_dir / 'ood.npz', transform=default_transform)\n",
    "ood_val_ratio = 0.2\n",
    "train_mask = rng.permutation(len(ds_ood)) >= int(len(ds_ood) * ood_val_ratio)\n",
    "ds_oods_train = torch.utils.data.Subset(ds_ood, np.where(train_mask)[0])\n",
    "ds_oods_val = torch.utils.data.Subset(ds_ood, np.where(~train_mask)[0])"
   ]
  },
  {
   "cell_type": "code",
   "execution_count": 10,
   "metadata": {},
   "outputs": [],
   "source": [
    "batch_size = 256\n",
    "num_workers = 4\n",
    "pin_memory = True\n",
    "\n",
    "def collate_fn(batch):\n",
    "    xs1, xs2, ys = [], [], []\n",
    "    for (x1, x2), y in batch:\n",
    "        xs1.append(x1)\n",
    "        xs2.append(x2)\n",
    "        ys.append(y)\n",
    "    return torch.stack(xs1), torch.stack(xs2), torch.tensor(ys)"
   ]
  },
  {
   "cell_type": "code",
   "execution_count": 11,
   "metadata": {},
   "outputs": [],
   "source": [
    "train_loader = DataLoader(train_dataset, batch_size=batch_size, num_workers=num_workers, pin_memory=pin_memory, shuffle=True, collate_fn=collate_fn)\n",
    "train_loader_no_augment = DataLoader(train_dataset_no_augment, batch_size=batch_size, num_workers=num_workers, pin_memory=pin_memory, shuffle=True)\n",
    "val_loader_no_augment  = DataLoader(val_dataset_no_augment,  batch_size=batch_size, num_workers=num_workers, pin_memory=pin_memory, shuffle=False)"
   ]
  },
  {
   "cell_type": "code",
   "execution_count": 12,
   "metadata": {},
   "outputs": [],
   "source": [
    "oods_train_loader = DataLoader(ds_oods_train, batch_size=batch_size, num_workers=num_workers, pin_memory=pin_memory, shuffle=True)\n",
    "oods_val_loader = DataLoader(ds_oods_val, batch_size=batch_size, num_workers=num_workers, pin_memory=pin_memory, shuffle=False)"
   ]
  },
  {
   "cell_type": "markdown",
   "metadata": {},
   "source": [
    "# 2. Load Your Model\n",
    "\n",
    "- Load your model from `models.py`.\n",
    "- You will need to modify the `encoder` and `projection` modules, as the provided template implementation is only a placeholder.\n",
    "- You SHOULD NOT change the `input_dim`, `input_channels`, and `feature_dim` parameters of the `ImageEncoder` class.\n",
    "- You can use an existing architecture (e.g., ResNet, ViT) but you SHOULD NOT use any pre-trained weights."
   ]
  },
  {
   "cell_type": "code",
   "execution_count": 13,
   "metadata": {},
   "outputs": [
    {
     "data": {
      "text/plain": [
       "ImageEncoder(\n",
       "  (encoder): ResNet(\n",
       "    (conv1): Conv2d(3, 64, kernel_size=(3, 3), stride=(1, 1), padding=(1, 1), bias=False)\n",
       "    (bn1): BatchNorm2d(64, eps=1e-05, momentum=0.1, affine=True, track_running_stats=True)\n",
       "    (relu): ReLU(inplace=True)\n",
       "    (maxpool): Identity()\n",
       "    (layer1): Sequential(\n",
       "      (0): BasicBlock(\n",
       "        (conv1): Conv2d(64, 64, kernel_size=(3, 3), stride=(1, 1), padding=(1, 1), bias=False)\n",
       "        (bn1): BatchNorm2d(64, eps=1e-05, momentum=0.1, affine=True, track_running_stats=True)\n",
       "        (relu): ReLU(inplace=True)\n",
       "        (conv2): Conv2d(64, 64, kernel_size=(3, 3), stride=(1, 1), padding=(1, 1), bias=False)\n",
       "        (bn2): BatchNorm2d(64, eps=1e-05, momentum=0.1, affine=True, track_running_stats=True)\n",
       "      )\n",
       "      (1): BasicBlock(\n",
       "        (conv1): Conv2d(64, 64, kernel_size=(3, 3), stride=(1, 1), padding=(1, 1), bias=False)\n",
       "        (bn1): BatchNorm2d(64, eps=1e-05, momentum=0.1, affine=True, track_running_stats=True)\n",
       "        (relu): ReLU(inplace=True)\n",
       "        (conv2): Conv2d(64, 64, kernel_size=(3, 3), stride=(1, 1), padding=(1, 1), bias=False)\n",
       "        (bn2): BatchNorm2d(64, eps=1e-05, momentum=0.1, affine=True, track_running_stats=True)\n",
       "      )\n",
       "    )\n",
       "    (layer2): Sequential(\n",
       "      (0): BasicBlock(\n",
       "        (conv1): Conv2d(64, 128, kernel_size=(3, 3), stride=(2, 2), padding=(1, 1), bias=False)\n",
       "        (bn1): BatchNorm2d(128, eps=1e-05, momentum=0.1, affine=True, track_running_stats=True)\n",
       "        (relu): ReLU(inplace=True)\n",
       "        (conv2): Conv2d(128, 128, kernel_size=(3, 3), stride=(1, 1), padding=(1, 1), bias=False)\n",
       "        (bn2): BatchNorm2d(128, eps=1e-05, momentum=0.1, affine=True, track_running_stats=True)\n",
       "        (downsample): Sequential(\n",
       "          (0): Conv2d(64, 128, kernel_size=(1, 1), stride=(2, 2), bias=False)\n",
       "          (1): BatchNorm2d(128, eps=1e-05, momentum=0.1, affine=True, track_running_stats=True)\n",
       "        )\n",
       "      )\n",
       "      (1): BasicBlock(\n",
       "        (conv1): Conv2d(128, 128, kernel_size=(3, 3), stride=(1, 1), padding=(1, 1), bias=False)\n",
       "        (bn1): BatchNorm2d(128, eps=1e-05, momentum=0.1, affine=True, track_running_stats=True)\n",
       "        (relu): ReLU(inplace=True)\n",
       "        (conv2): Conv2d(128, 128, kernel_size=(3, 3), stride=(1, 1), padding=(1, 1), bias=False)\n",
       "        (bn2): BatchNorm2d(128, eps=1e-05, momentum=0.1, affine=True, track_running_stats=True)\n",
       "      )\n",
       "    )\n",
       "    (layer3): Sequential(\n",
       "      (0): BasicBlock(\n",
       "        (conv1): Conv2d(128, 256, kernel_size=(3, 3), stride=(2, 2), padding=(1, 1), bias=False)\n",
       "        (bn1): BatchNorm2d(256, eps=1e-05, momentum=0.1, affine=True, track_running_stats=True)\n",
       "        (relu): ReLU(inplace=True)\n",
       "        (conv2): Conv2d(256, 256, kernel_size=(3, 3), stride=(1, 1), padding=(1, 1), bias=False)\n",
       "        (bn2): BatchNorm2d(256, eps=1e-05, momentum=0.1, affine=True, track_running_stats=True)\n",
       "        (downsample): Sequential(\n",
       "          (0): Conv2d(128, 256, kernel_size=(1, 1), stride=(2, 2), bias=False)\n",
       "          (1): BatchNorm2d(256, eps=1e-05, momentum=0.1, affine=True, track_running_stats=True)\n",
       "        )\n",
       "      )\n",
       "      (1): BasicBlock(\n",
       "        (conv1): Conv2d(256, 256, kernel_size=(3, 3), stride=(1, 1), padding=(1, 1), bias=False)\n",
       "        (bn1): BatchNorm2d(256, eps=1e-05, momentum=0.1, affine=True, track_running_stats=True)\n",
       "        (relu): ReLU(inplace=True)\n",
       "        (conv2): Conv2d(256, 256, kernel_size=(3, 3), stride=(1, 1), padding=(1, 1), bias=False)\n",
       "        (bn2): BatchNorm2d(256, eps=1e-05, momentum=0.1, affine=True, track_running_stats=True)\n",
       "      )\n",
       "    )\n",
       "    (layer4): Sequential(\n",
       "      (0): BasicBlock(\n",
       "        (conv1): Conv2d(256, 512, kernel_size=(3, 3), stride=(2, 2), padding=(1, 1), bias=False)\n",
       "        (bn1): BatchNorm2d(512, eps=1e-05, momentum=0.1, affine=True, track_running_stats=True)\n",
       "        (relu): ReLU(inplace=True)\n",
       "        (conv2): Conv2d(512, 512, kernel_size=(3, 3), stride=(1, 1), padding=(1, 1), bias=False)\n",
       "        (bn2): BatchNorm2d(512, eps=1e-05, momentum=0.1, affine=True, track_running_stats=True)\n",
       "        (downsample): Sequential(\n",
       "          (0): Conv2d(256, 512, kernel_size=(1, 1), stride=(2, 2), bias=False)\n",
       "          (1): BatchNorm2d(512, eps=1e-05, momentum=0.1, affine=True, track_running_stats=True)\n",
       "        )\n",
       "      )\n",
       "      (1): BasicBlock(\n",
       "        (conv1): Conv2d(512, 512, kernel_size=(3, 3), stride=(1, 1), padding=(1, 1), bias=False)\n",
       "        (bn1): BatchNorm2d(512, eps=1e-05, momentum=0.1, affine=True, track_running_stats=True)\n",
       "        (relu): ReLU(inplace=True)\n",
       "        (conv2): Conv2d(512, 512, kernel_size=(3, 3), stride=(1, 1), padding=(1, 1), bias=False)\n",
       "        (bn2): BatchNorm2d(512, eps=1e-05, momentum=0.1, affine=True, track_running_stats=True)\n",
       "      )\n",
       "    )\n",
       "    (avgpool): AdaptiveAvgPool2d(output_size=(1, 1))\n",
       "    (fc): Linear(in_features=512, out_features=1000, bias=True)\n",
       "  )\n",
       "  (projector): Sequential(\n",
       "    (0): Linear(in_features=1000, out_features=2048, bias=True)\n",
       "    (1): ReLU(inplace=True)\n",
       "    (2): Linear(in_features=2048, out_features=128, bias=True)\n",
       "  )\n",
       ")"
      ]
     },
     "execution_count": 13,
     "metadata": {},
     "output_type": "execute_result"
    }
   ],
   "source": [
    "from models import ImageEncoder\n",
    "\n",
    "model = ImageEncoder().to(device)\n",
    "model"
   ]
  },
  {
   "cell_type": "markdown",
   "metadata": {},
   "source": [
    "## 3. Helpers for Training & Evaluation"
   ]
  },
  {
   "cell_type": "markdown",
   "metadata": {},
   "source": [
    "We suggest you to implement the following helper functions to keep your training and evaluation loops clean and organized. \\\n",
    "- `training_step`: Performs a single training step (forward pass, loss computation, backward pass, optimizer step) and returns the loss value.\n",
    "- `evaluation_step`: Evaluates the model on the validation dataset and returns the accuracy.\n",
    "\n",
    "Depending on your specific requirements, you may also want to implement additional utility functions for tasks such as data loading, metric computation, and logging.\n",
    "\n",
    "As you have seen from previous assignments, loss functions for self-supervised learning objectives can be quite complex. \\\n",
    "Feel free to implement any helper functions you may need to compute the loss.\n"
   ]
  },
  {
   "cell_type": "code",
   "execution_count": 14,
   "metadata": {},
   "outputs": [],
   "source": [
    "def training_step(*args, **kwargs):\n",
    "    model, train_loader, optimizer, custom_loss_function = args\n",
    "    avg_loss = 0.\n",
    "    for x1, x2, y in train_loader:\n",
    "        x1, x2 = x1.to(device), x2.to(device)\n",
    "\n",
    "        _, proj1 = model(x1)\n",
    "        _, proj2 = model(x2)\n",
    "        loss = custom_loss_function(proj1, proj2, tau=0.5)\n",
    "\n",
    "        optimizer.zero_grad()\n",
    "        loss.backward()\n",
    "        optimizer.step()\n",
    "\n",
    "        avg_loss += loss.item()\n",
    "    return { \"loss\": avg_loss / len(train_loader) }"
   ]
  },
  {
   "cell_type": "code",
   "execution_count": 15,
   "metadata": {},
   "outputs": [],
   "source": [
    "def evaluation_step(*args, **kwargs):\n",
    "    model, train_loader_no_augment, val_loader_no_augment, oods_train_loader, oods_val_loader = args\n",
    "    \n",
    "    train_features, train_labels = extract_features_and_labels(model, train_loader_no_augment, normalize=True)\n",
    "    test_features, test_labels = extract_features_and_labels(model, val_loader_no_augment, normalize=True)\n",
    "    # oods_train_features, oods_train_labels = extract_features_and_labels(model, oods_train_loader, normalize=True)\n",
    "    # oods_test_features, oods_test_labels = extract_features_and_labels(model, oods_val_loader, normalize=True)\n",
    "    \n",
    "    knn_accuracy = run_knn_probe(train_features, train_labels, test_features, test_labels)\n",
    "    # linear_accuracy = run_linear_probe(train_features, train_labels, test_features, test_labels)\n",
    "    # oods_knn_accuracy = run_knn_probe(oods_train_features, oods_train_labels, oods_test_features, oods_test_labels)\n",
    "    # oods_linear_accuracy = run_linear_probe(oods_train_features, oods_train_labels, oods_test_features, oods_test_labels)\n",
    "\n",
    "    return { \"knn_accuracy\": knn_accuracy, } # \"linear_accuracy\": linear_accuracy, \"oods_knn_accuracy\": oods_knn_accuracy, \"oods_linear_accuracy\": oods_linear_accuracy }"
   ]
  },
  {
   "cell_type": "code",
   "execution_count": 16,
   "metadata": {},
   "outputs": [],
   "source": [
    "def normalize(x, eps=1e-8):\n",
    "    \"\"\"\n",
    "    Normalizes a batch of feature vectors.\n",
    "    \"\"\"\n",
    "    return x / (x.norm(dim=-1, keepdim=True) + eps)\n",
    "\n",
    "def custom_loss_function(z1, z2, tau=0.5):\n",
    "    \"\"\"\n",
    "    Computes NT-Xent loss.\n",
    "    z1: (batch_size, feature_dim) tensor of normalized projection vectors\n",
    "    z2: (batch_size, feature_dim) tensor of normalized projection vectors\n",
    "    returns: loss (scalar)\n",
    "    \"\"\"\n",
    "    z1, z2 = normalize(z1), normalize(z2)\n",
    "    B, d = z1.shape\n",
    "    z = torch.cat([z1, z2], dim=0)              # (2B, d)\n",
    "    sim = (z @ z.t()) / tau                     # (2B, 2B)\n",
    "    mask = torch.eye(2*B, dtype=torch.bool, device=z.device)\n",
    "    sim.masked_fill_(mask, -1e9)\n",
    "    targets = torch.arange(B, device=z.device)\n",
    "    targets = torch.cat([targets + B, targets], dim=0)\n",
    "    return F.cross_entropy(sim, targets)"
   ]
  },
  {
   "cell_type": "markdown",
   "metadata": {},
   "source": [
    "# 4. Optimizer Configuration"
   ]
  },
  {
   "cell_type": "code",
   "execution_count": 17,
   "metadata": {},
   "outputs": [],
   "source": [
    "total_epochs = 50  # Adjust the number of epochs as needed\n",
    "warmup_epochs = 10\n",
    "\n",
    "def lr_lambda(epoch):\n",
    "    if epoch < warmup_epochs:\n",
    "        return (epoch + 1) / float(warmup_epochs)\n",
    "    t = (epoch - warmup_epochs) / float(total_epochs - warmup_epochs)\n",
    "    return 0.0 + 0.5 * (1 - 0.0) * (1 + math.cos(math.pi * t))\n",
    "\n",
    "optimizer = torch.optim.AdamW(model.parameters(), lr=0.6, weight_decay=0.0)\n",
    "lr_scheduler = torch.optim.lr_scheduler.LambdaLR(optimizer, lr_lambda)\n",
    "\n",
    "# Feel free to adapt and add more arguments\n",
    "# lr = 1e-3\n",
    "# weight_decay = 5e-2\n",
    "# lr_step_size = 10\n",
    "# lr_gamma = 0.1\n",
    "# optimizer = torch.optim.Adam(model.parameters(), lr=lr)\n",
    "# lr_scheduler = torch.optim.lr_scheduler.StepLR(optimizer, step_size=lr_step_size, gamma=lr_gamma)"
   ]
  },
  {
   "cell_type": "markdown",
   "metadata": {},
   "source": [
    "# 5. Training Loop"
   ]
  },
  {
   "cell_type": "markdown",
   "metadata": {},
   "source": [
    "Adapt your training configuration and implement the training loop. \\\n",
    "You probably want to save model checkpoints and evaluate the model on the validation set at regular intervals."
   ]
  },
  {
   "cell_type": "code",
   "execution_count": 18,
   "metadata": {},
   "outputs": [],
   "source": [
    "n_epochs = total_epochs\n",
    "eval_interval = 1  # Evaluate the model every 'eval_interval' epochs\n",
    "save_interval = 10  # Save the model every 'save_interval' epochs"
   ]
  },
  {
   "cell_type": "code",
   "execution_count": 19,
   "metadata": {},
   "outputs": [
    {
     "name": "stderr",
     "output_type": "stream",
     "text": [
      "  2%|▏         | 1/50 [05:18<4:20:29, 318.97s/it]"
     ]
    },
    {
     "name": "stdout",
     "output_type": "stream",
     "text": [
      "Epoch 1/50, Train Loss: 5.8133, Val kNN-5 Accuracy: 0.02\n"
     ]
    },
    {
     "name": "stderr",
     "output_type": "stream",
     "text": [
      "  4%|▍         | 2/50 [10:37<4:14:52, 318.59s/it]"
     ]
    },
    {
     "name": "stdout",
     "output_type": "stream",
     "text": [
      "Epoch 2/50, Train Loss: 5.3812, Val kNN-5 Accuracy: 0.02\n"
     ]
    },
    {
     "name": "stderr",
     "output_type": "stream",
     "text": [
      "  6%|▌         | 3/50 [15:54<4:09:09, 318.08s/it]"
     ]
    },
    {
     "name": "stdout",
     "output_type": "stream",
     "text": [
      "Epoch 3/50, Train Loss: 5.0190, Val kNN-5 Accuracy: 0.02\n"
     ]
    },
    {
     "name": "stderr",
     "output_type": "stream",
     "text": [
      "  8%|▊         | 4/50 [21:11<4:03:28, 317.57s/it]"
     ]
    },
    {
     "name": "stdout",
     "output_type": "stream",
     "text": [
      "Epoch 4/50, Train Loss: 4.9312, Val kNN-5 Accuracy: 0.03\n"
     ]
    },
    {
     "name": "stderr",
     "output_type": "stream",
     "text": [
      " 10%|█         | 5/50 [26:27<3:57:37, 316.82s/it]"
     ]
    },
    {
     "name": "stdout",
     "output_type": "stream",
     "text": [
      "Epoch 5/50, Train Loss: 4.8952, Val kNN-5 Accuracy: 0.04\n"
     ]
    },
    {
     "name": "stderr",
     "output_type": "stream",
     "text": [
      " 12%|█▏        | 6/50 [31:45<3:52:40, 317.29s/it]"
     ]
    },
    {
     "name": "stdout",
     "output_type": "stream",
     "text": [
      "Epoch 6/50, Train Loss: 4.8428, Val kNN-5 Accuracy: 0.04\n"
     ]
    },
    {
     "name": "stderr",
     "output_type": "stream",
     "text": [
      " 14%|█▍        | 7/50 [37:02<3:47:18, 317.17s/it]"
     ]
    },
    {
     "name": "stdout",
     "output_type": "stream",
     "text": [
      "Epoch 7/50, Train Loss: 4.8096, Val kNN-5 Accuracy: 0.06\n"
     ]
    },
    {
     "name": "stderr",
     "output_type": "stream",
     "text": [
      " 16%|█▌        | 8/50 [42:18<3:41:53, 316.98s/it]"
     ]
    },
    {
     "name": "stdout",
     "output_type": "stream",
     "text": [
      "Epoch 8/50, Train Loss: 4.7875, Val kNN-5 Accuracy: 0.06\n"
     ]
    },
    {
     "name": "stderr",
     "output_type": "stream",
     "text": [
      " 18%|█▊        | 9/50 [47:36<3:36:45, 317.20s/it]"
     ]
    },
    {
     "name": "stdout",
     "output_type": "stream",
     "text": [
      "Epoch 9/50, Train Loss: 4.7680, Val kNN-5 Accuracy: 0.07\n"
     ]
    },
    {
     "name": "stderr",
     "output_type": "stream",
     "text": [
      " 20%|██        | 10/50 [52:54<3:31:33, 317.35s/it]"
     ]
    },
    {
     "name": "stdout",
     "output_type": "stream",
     "text": [
      "Epoch 10/50, Train Loss: 4.7568, Val kNN-5 Accuracy: 0.07\n",
      "Model checkpoint saved at checkpoints/model_epoch_10.safetensors\n"
     ]
    },
    {
     "name": "stderr",
     "output_type": "stream",
     "text": [
      " 22%|██▏       | 11/50 [58:13<3:26:41, 317.99s/it]"
     ]
    },
    {
     "name": "stdout",
     "output_type": "stream",
     "text": [
      "Epoch 11/50, Train Loss: 4.7394, Val kNN-5 Accuracy: 0.08\n"
     ]
    },
    {
     "name": "stderr",
     "output_type": "stream",
     "text": [
      " 24%|██▍       | 12/50 [1:03:30<3:21:07, 317.57s/it]"
     ]
    },
    {
     "name": "stdout",
     "output_type": "stream",
     "text": [
      "Epoch 12/50, Train Loss: 4.7225, Val kNN-5 Accuracy: 0.09\n"
     ]
    },
    {
     "name": "stderr",
     "output_type": "stream",
     "text": [
      " 26%|██▌       | 13/50 [1:08:47<3:15:45, 317.45s/it]"
     ]
    },
    {
     "name": "stdout",
     "output_type": "stream",
     "text": [
      "Epoch 13/50, Train Loss: 4.7097, Val kNN-5 Accuracy: 0.09\n"
     ]
    },
    {
     "name": "stderr",
     "output_type": "stream",
     "text": [
      " 28%|██▊       | 14/50 [1:14:05<3:10:37, 317.71s/it]"
     ]
    },
    {
     "name": "stdout",
     "output_type": "stream",
     "text": [
      "Epoch 14/50, Train Loss: 4.6992, Val kNN-5 Accuracy: 0.10\n"
     ]
    },
    {
     "name": "stderr",
     "output_type": "stream",
     "text": [
      " 30%|███       | 15/50 [1:19:21<3:05:00, 317.17s/it]"
     ]
    },
    {
     "name": "stdout",
     "output_type": "stream",
     "text": [
      "Epoch 15/50, Train Loss: 4.6845, Val kNN-5 Accuracy: 0.10\n"
     ]
    },
    {
     "name": "stderr",
     "output_type": "stream",
     "text": [
      " 32%|███▏      | 16/50 [1:24:40<3:00:05, 317.81s/it]"
     ]
    },
    {
     "name": "stdout",
     "output_type": "stream",
     "text": [
      "Epoch 16/50, Train Loss: 4.6775, Val kNN-5 Accuracy: 0.10\n"
     ]
    },
    {
     "name": "stderr",
     "output_type": "stream",
     "text": [
      " 34%|███▍      | 17/50 [1:30:00<2:55:02, 318.26s/it]"
     ]
    },
    {
     "name": "stdout",
     "output_type": "stream",
     "text": [
      "Epoch 17/50, Train Loss: 4.6686, Val kNN-5 Accuracy: 0.11\n"
     ]
    },
    {
     "name": "stderr",
     "output_type": "stream",
     "text": [
      " 36%|███▌      | 18/50 [1:35:15<2:49:19, 317.50s/it]"
     ]
    },
    {
     "name": "stdout",
     "output_type": "stream",
     "text": [
      "Epoch 18/50, Train Loss: 4.6618, Val kNN-5 Accuracy: 0.12\n"
     ]
    },
    {
     "name": "stderr",
     "output_type": "stream",
     "text": [
      " 38%|███▊      | 19/50 [1:40:35<2:44:20, 318.09s/it]"
     ]
    },
    {
     "name": "stdout",
     "output_type": "stream",
     "text": [
      "Epoch 19/50, Train Loss: 4.6559, Val kNN-5 Accuracy: 0.12\n"
     ]
    },
    {
     "name": "stderr",
     "output_type": "stream",
     "text": [
      " 40%|████      | 20/50 [1:45:53<2:39:07, 318.24s/it]"
     ]
    },
    {
     "name": "stdout",
     "output_type": "stream",
     "text": [
      "Epoch 20/50, Train Loss: 4.6502, Val kNN-5 Accuracy: 0.12\n",
      "Model checkpoint saved at checkpoints/model_epoch_20.safetensors\n"
     ]
    },
    {
     "name": "stderr",
     "output_type": "stream",
     "text": [
      " 42%|████▏     | 21/50 [1:51:13<2:33:57, 318.53s/it]"
     ]
    },
    {
     "name": "stdout",
     "output_type": "stream",
     "text": [
      "Epoch 21/50, Train Loss: 4.6434, Val kNN-5 Accuracy: 0.13\n"
     ]
    },
    {
     "name": "stderr",
     "output_type": "stream",
     "text": [
      " 44%|████▍     | 22/50 [1:56:35<2:29:08, 319.58s/it]"
     ]
    },
    {
     "name": "stdout",
     "output_type": "stream",
     "text": [
      "Epoch 22/50, Train Loss: 4.6399, Val kNN-5 Accuracy: 0.13\n"
     ]
    },
    {
     "name": "stderr",
     "output_type": "stream",
     "text": [
      " 46%|████▌     | 23/50 [2:01:53<2:23:40, 319.28s/it]"
     ]
    },
    {
     "name": "stdout",
     "output_type": "stream",
     "text": [
      "Epoch 23/50, Train Loss: 4.6353, Val kNN-5 Accuracy: 0.13\n"
     ]
    },
    {
     "name": "stderr",
     "output_type": "stream",
     "text": [
      " 48%|████▊     | 24/50 [2:07:18<2:19:04, 320.93s/it]"
     ]
    },
    {
     "name": "stdout",
     "output_type": "stream",
     "text": [
      "Epoch 24/50, Train Loss: 4.6288, Val kNN-5 Accuracy: 0.14\n"
     ]
    },
    {
     "name": "stderr",
     "output_type": "stream",
     "text": [
      " 50%|█████     | 25/50 [2:12:36<2:13:24, 320.17s/it]"
     ]
    },
    {
     "name": "stdout",
     "output_type": "stream",
     "text": [
      "Epoch 25/50, Train Loss: 4.6242, Val kNN-5 Accuracy: 0.14\n"
     ]
    },
    {
     "name": "stderr",
     "output_type": "stream",
     "text": [
      " 52%|█████▏    | 26/50 [2:17:54<2:07:45, 319.38s/it]"
     ]
    },
    {
     "name": "stdout",
     "output_type": "stream",
     "text": [
      "Epoch 26/50, Train Loss: 4.6201, Val kNN-5 Accuracy: 0.14\n"
     ]
    },
    {
     "name": "stderr",
     "output_type": "stream",
     "text": [
      " 54%|█████▍    | 27/50 [2:23:10<2:02:00, 318.30s/it]"
     ]
    },
    {
     "name": "stdout",
     "output_type": "stream",
     "text": [
      "Epoch 27/50, Train Loss: 4.6155, Val kNN-5 Accuracy: 0.15\n"
     ]
    },
    {
     "name": "stderr",
     "output_type": "stream",
     "text": [
      " 56%|█████▌    | 28/50 [2:28:29<1:56:48, 318.57s/it]"
     ]
    },
    {
     "name": "stdout",
     "output_type": "stream",
     "text": [
      "Epoch 28/50, Train Loss: 4.6107, Val kNN-5 Accuracy: 0.15\n"
     ]
    },
    {
     "name": "stderr",
     "output_type": "stream",
     "text": [
      " 58%|█████▊    | 29/50 [2:33:52<1:51:59, 319.96s/it]"
     ]
    },
    {
     "name": "stdout",
     "output_type": "stream",
     "text": [
      "Epoch 29/50, Train Loss: 4.6072, Val kNN-5 Accuracy: 0.15\n"
     ]
    },
    {
     "name": "stderr",
     "output_type": "stream",
     "text": [
      " 60%|██████    | 30/50 [2:39:10<1:46:27, 319.35s/it]"
     ]
    },
    {
     "name": "stdout",
     "output_type": "stream",
     "text": [
      "Epoch 30/50, Train Loss: 4.6039, Val kNN-5 Accuracy: 0.17\n",
      "Model checkpoint saved at checkpoints/model_epoch_30.safetensors\n"
     ]
    },
    {
     "name": "stderr",
     "output_type": "stream",
     "text": [
      " 62%|██████▏   | 31/50 [2:44:31<1:41:14, 319.69s/it]"
     ]
    },
    {
     "name": "stdout",
     "output_type": "stream",
     "text": [
      "Epoch 31/50, Train Loss: 4.5999, Val kNN-5 Accuracy: 0.16\n"
     ]
    },
    {
     "name": "stderr",
     "output_type": "stream",
     "text": [
      " 64%|██████▍   | 32/50 [2:49:51<1:36:00, 320.02s/it]"
     ]
    },
    {
     "name": "stdout",
     "output_type": "stream",
     "text": [
      "Epoch 32/50, Train Loss: 4.5937, Val kNN-5 Accuracy: 0.17\n"
     ]
    },
    {
     "name": "stderr",
     "output_type": "stream",
     "text": [
      " 66%|██████▌   | 33/50 [2:55:13<1:30:46, 320.40s/it]"
     ]
    },
    {
     "name": "stdout",
     "output_type": "stream",
     "text": [
      "Epoch 33/50, Train Loss: 4.5926, Val kNN-5 Accuracy: 0.17\n"
     ]
    },
    {
     "name": "stderr",
     "output_type": "stream",
     "text": [
      " 68%|██████▊   | 34/50 [3:00:34<1:25:32, 320.79s/it]"
     ]
    },
    {
     "name": "stdout",
     "output_type": "stream",
     "text": [
      "Epoch 34/50, Train Loss: 4.5870, Val kNN-5 Accuracy: 0.18\n"
     ]
    },
    {
     "name": "stderr",
     "output_type": "stream",
     "text": [
      " 70%|███████   | 35/50 [3:05:55<1:20:12, 320.85s/it]"
     ]
    },
    {
     "name": "stdout",
     "output_type": "stream",
     "text": [
      "Epoch 35/50, Train Loss: 4.5841, Val kNN-5 Accuracy: 0.17\n"
     ]
    },
    {
     "name": "stderr",
     "output_type": "stream",
     "text": [
      " 72%|███████▏  | 36/50 [3:11:18<1:15:00, 321.50s/it]"
     ]
    },
    {
     "name": "stdout",
     "output_type": "stream",
     "text": [
      "Epoch 36/50, Train Loss: 4.5830, Val kNN-5 Accuracy: 0.18\n"
     ]
    },
    {
     "name": "stderr",
     "output_type": "stream",
     "text": [
      " 74%|███████▍  | 37/50 [3:16:43<1:09:51, 322.40s/it]"
     ]
    },
    {
     "name": "stdout",
     "output_type": "stream",
     "text": [
      "Epoch 37/50, Train Loss: 4.5779, Val kNN-5 Accuracy: 0.18\n"
     ]
    },
    {
     "name": "stderr",
     "output_type": "stream",
     "text": [
      " 76%|███████▌  | 38/50 [3:22:04<1:04:24, 322.01s/it]"
     ]
    },
    {
     "name": "stdout",
     "output_type": "stream",
     "text": [
      "Epoch 38/50, Train Loss: 4.5732, Val kNN-5 Accuracy: 0.18\n"
     ]
    },
    {
     "name": "stderr",
     "output_type": "stream",
     "text": [
      " 78%|███████▊  | 39/50 [3:27:28<59:07, 322.49s/it]  "
     ]
    },
    {
     "name": "stdout",
     "output_type": "stream",
     "text": [
      "Epoch 39/50, Train Loss: 4.5717, Val kNN-5 Accuracy: 0.18\n"
     ]
    },
    {
     "name": "stderr",
     "output_type": "stream",
     "text": [
      " 80%|████████  | 40/50 [3:32:49<53:42, 322.27s/it]"
     ]
    },
    {
     "name": "stdout",
     "output_type": "stream",
     "text": [
      "Epoch 40/50, Train Loss: 4.5679, Val kNN-5 Accuracy: 0.19\n",
      "Model checkpoint saved at checkpoints/model_epoch_40.safetensors\n"
     ]
    },
    {
     "name": "stderr",
     "output_type": "stream",
     "text": [
      " 82%|████████▏ | 41/50 [3:38:06<48:06, 320.67s/it]"
     ]
    },
    {
     "name": "stdout",
     "output_type": "stream",
     "text": [
      "Epoch 41/50, Train Loss: 4.5656, Val kNN-5 Accuracy: 0.19\n"
     ]
    },
    {
     "name": "stderr",
     "output_type": "stream",
     "text": [
      " 84%|████████▍ | 42/50 [3:43:27<42:44, 320.59s/it]"
     ]
    },
    {
     "name": "stdout",
     "output_type": "stream",
     "text": [
      "Epoch 42/50, Train Loss: 4.5630, Val kNN-5 Accuracy: 0.19\n"
     ]
    },
    {
     "name": "stderr",
     "output_type": "stream",
     "text": [
      " 86%|████████▌ | 43/50 [3:48:44<37:18, 319.76s/it]"
     ]
    },
    {
     "name": "stdout",
     "output_type": "stream",
     "text": [
      "Epoch 43/50, Train Loss: 4.5617, Val kNN-5 Accuracy: 0.19\n"
     ]
    },
    {
     "name": "stderr",
     "output_type": "stream",
     "text": [
      " 88%|████████▊ | 44/50 [3:54:04<31:58, 319.71s/it]"
     ]
    },
    {
     "name": "stdout",
     "output_type": "stream",
     "text": [
      "Epoch 44/50, Train Loss: 4.5622, Val kNN-5 Accuracy: 0.19\n"
     ]
    },
    {
     "name": "stderr",
     "output_type": "stream",
     "text": [
      " 90%|█████████ | 45/50 [3:59:21<26:34, 318.96s/it]"
     ]
    },
    {
     "name": "stdout",
     "output_type": "stream",
     "text": [
      "Epoch 45/50, Train Loss: 4.5593, Val kNN-5 Accuracy: 0.19\n"
     ]
    },
    {
     "name": "stderr",
     "output_type": "stream",
     "text": [
      " 92%|█████████▏| 46/50 [4:04:44<21:20, 320.05s/it]"
     ]
    },
    {
     "name": "stdout",
     "output_type": "stream",
     "text": [
      "Epoch 46/50, Train Loss: 4.5577, Val kNN-5 Accuracy: 0.19\n"
     ]
    },
    {
     "name": "stderr",
     "output_type": "stream",
     "text": [
      " 94%|█████████▍| 47/50 [4:10:00<15:56, 318.96s/it]"
     ]
    },
    {
     "name": "stdout",
     "output_type": "stream",
     "text": [
      "Epoch 47/50, Train Loss: 4.5571, Val kNN-5 Accuracy: 0.19\n"
     ]
    },
    {
     "name": "stderr",
     "output_type": "stream",
     "text": [
      " 96%|█████████▌| 48/50 [4:15:20<10:38, 319.08s/it]"
     ]
    },
    {
     "name": "stdout",
     "output_type": "stream",
     "text": [
      "Epoch 48/50, Train Loss: 4.5554, Val kNN-5 Accuracy: 0.20\n"
     ]
    },
    {
     "name": "stderr",
     "output_type": "stream",
     "text": [
      " 98%|█████████▊| 49/50 [4:20:41<05:19, 319.75s/it]"
     ]
    },
    {
     "name": "stdout",
     "output_type": "stream",
     "text": [
      "Epoch 49/50, Train Loss: 4.5571, Val kNN-5 Accuracy: 0.20\n"
     ]
    },
    {
     "name": "stderr",
     "output_type": "stream",
     "text": [
      "100%|██████████| 50/50 [4:26:00<00:00, 319.22s/it]"
     ]
    },
    {
     "name": "stdout",
     "output_type": "stream",
     "text": [
      "Epoch 50/50, Train Loss: 4.5561, Val kNN-5 Accuracy: 0.20\n",
      "Model checkpoint saved at checkpoints/model_epoch_50.safetensors\n"
     ]
    },
    {
     "name": "stderr",
     "output_type": "stream",
     "text": [
      "\n"
     ]
    }
   ],
   "source": [
    "all_train_stats = []\n",
    "all_val_stats = []\n",
    "\n",
    "for epoch in tqdm(range(n_epochs)):\n",
    "    # TODO: Implement the training and evaluation loop\n",
    "    model.train()\n",
    "    train_stats = training_step(model, train_loader, optimizer, custom_loss_function)\n",
    "    all_train_stats.append(train_stats)\n",
    "\n",
    "    lr_scheduler.step()\n",
    "\n",
    "    if (epoch + 1) % eval_interval == 0:\n",
    "        model.eval()\n",
    "        val_stats = evaluation_step(model, train_loader_no_augment, val_loader_no_augment, oods_train_loader, oods_val_loader)\n",
    "        all_val_stats.append(val_stats)\n",
    "        print(f\"Epoch {epoch+1}/{n_epochs}, Train Loss: {train_stats['loss']:.4f}, Val kNN-5 Accuracy: {val_stats['knn_accuracy']:.2f}\")\n",
    "\n",
    "    if (epoch + 1) % save_interval == 0:\n",
    "        checkpoint_path = checkpoints_dir / f'model_epoch_{epoch+1}.safetensors'\n",
    "        save_model(model, checkpoint_path)\n",
    "        print(f\"Model checkpoint saved at {checkpoint_path}\")\n",
    "\n",
    "\n",
    "# Save the final model\n",
    "save_model(model, final_model_path)"
   ]
  },
  {
   "cell_type": "markdown",
   "metadata": {},
   "source": [
    "# 6. Visualize Results"
   ]
  },
  {
   "cell_type": "markdown",
   "metadata": {},
   "source": [
    "To better understand the performance of your trained model, visualize some results. \\\n",
    "You can visualize:\n",
    "- Sample images from the validation set along with their predicted labels.\n",
    "- Training and validation loss curves over epochs."
   ]
  },
  {
   "cell_type": "code",
   "execution_count": 20,
   "metadata": {},
   "outputs": [
    {
     "data": {
      "image/png": "[encoded data removed]",
      "text/plain": [
       "<Figure size 1200x500 with 2 Axes>"
      ]
     },
     "metadata": {},
     "output_type": "display_data"
    }
   ],
   "source": [
    "all_losses = [s[\"loss\"] for s in all_train_stats]\n",
    "all_accuracies = [s[\"knn_accuracy\"] for s in all_val_stats]\n",
    "\n",
    "fig, axes = plt.subplots(1, 2, figsize=(12, 5))\n",
    "axes[0].plot(range(1, total_epochs+1), all_losses)\n",
    "axes[0].set_xlabel('Epoch')\n",
    "axes[0].set_ylabel('Average NT-Xent Loss')\n",
    "\n",
    "axes[1].plot(range(1, total_epochs+1), all_accuracies)\n",
    "axes[1].set_xlabel('Epoch')\n",
    "axes[1].set_ylabel('k-NN Accuracy (%)')\n",
    "axes[1].set_ylim(0, 1)\n",
    "\n",
    "plt.show()"
   ]
  },
  {
   "cell_type": "markdown",
   "metadata": {},
   "source": [
    "# 7. Submission Instructions"
   ]
  },
  {
   "cell_type": "markdown",
   "metadata": {},
   "source": [
    "You must submit the following files:\n",
    "- `models.py`: Contains the implementation of your model architecture.\n",
    "- `final_model.safetensors`: The trained model weights saved in the safetensors format.\n",
    "- `report.md`: A brief report summarizing your approach, design choices, and results.\n",
    "- `CS461_Assignment1.ipynb`: The Jupyter notebook containing your code and explanations. Make sure to save your progress before running the cell below.\n",
    "\n",
    "You will submit your assignment under a single folder named `/home/cs461_assignment1_submission` containing the above files. \\\n",
    "Make sure to replace `<SCIPER>`, `<LAST_NAME>`, and `<FIRST_NAME>` with your actual SCIPER number, last name, and first name respectively. \\\n",
    "The following cell will help you move the files into the submission folder."
   ]
  },
  {
   "cell_type": "code",
   "execution_count": 7,
   "metadata": {},
   "outputs": [
    {
     "data": {
      "text/plain": [
       "PosixPath('/home/cs461_assignment1_submission/report.md')"
      ]
     },
     "execution_count": 7,
     "metadata": {},
     "output_type": "execute_result"
    }
   ],
   "source": [
    "work_dir = Path('.')\n",
    "output_dir = Path.home() / 'cs461_assignment1_submission'\n",
    "\n",
    "if not output_dir.exists():\n",
    "    output_dir.mkdir(parents=True, exist_ok=False)\n",
    "    \n",
    "shutil.copy(final_model_path, output_dir / 'final_model.safetensors')\n",
    "shutil.copy(work_dir / 'models.py', output_dir / 'models.py')\n",
    "shutil.copy(work_dir / 'CS461_Assignment1.ipynb', output_dir / 'CS461_Assignment1.ipynb')\n",
    "shutil.copy(work_dir / 'report.md', output_dir / 'report.md')"
   ]
  },
  {
   "cell_type": "markdown",
   "metadata": {},
   "source": [
    "Check that all required files are present in the submission folder before running the cell below."
   ]
  },
  {
   "cell_type": "code",
   "execution_count": 8,
   "metadata": {},
   "outputs": [],
   "source": [
    "assert SCIPER is not None and LAST_NAME is not None and FIRST_NAME is not None, \"Please set your SCIPER, LAST_NAME, and FIRST_NAME variables.\"\n",
    "\n",
    "list_of_files = ['final_model.safetensors', 'models.py', 'CS461_Assignment1.ipynb', 'report.md']\n",
    "files_found = all((output_dir / f).exists() for f in list_of_files)\n",
    "assert files_found, f\"One or more required files are missing in the submission folder: {list_of_files}\"\n"
   ]
  },
  {
   "cell_type": "markdown",
   "metadata": {},
   "source": [
    "You can test whether your submission folder is appropriately structured by using the `eval.py`:\n",
    "```bash\n",
    "python eval.py\n",
    "```"
   ]
  },
  {
   "cell_type": "code",
   "execution_count": null,
   "metadata": {},
   "outputs": [
    {
     "name": "stdout",
     "output_type": "stream",
     "text": [
      "hwloc/linux: failed to find sysfs cpu topology directory, aborting linux discovery.\n",
      "Extension for Scikit-learn* enabled (https://github.com/uxlfoundation/scikit-learn-intelex)\n"
     ]
    }
   ],
   "source": [
    "### Uncomment the line below to run the evaluation script and check your model's performance\n",
    "\n",
    "!python eval.py"
   ]
  },
  {
   "cell_type": "markdown",
   "metadata": {},
   "source": [
    "---\n",
    "🎉 **Congratulations!**  \n",
    "You’ve completed Assignment 1. Good luck, and don’t forget to double-check your submission!"
   ]
  }
 ],
 "metadata": {
  "kernelspec": {
   "display_name": "CS461 - Assignment 1",
   "language": "python",
   "name": "cs461_assignment1"
  },
  "language_info": {
   "codemirror_mode": {
    "name": "ipython",
    "version": 3
   },
   "file_extension": ".py",
   "mimetype": "text/x-python",
   "name": "python",
   "nbconvert_exporter": "python",
   "pygments_lexer": "ipython3",
   "version": "3.12.8"
  }
 },
 "nbformat": 4,
 "nbformat_minor": 4
}
